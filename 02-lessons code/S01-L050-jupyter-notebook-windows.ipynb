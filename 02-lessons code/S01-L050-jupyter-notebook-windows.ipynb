{
 "cells": [
  {
   "cell_type": "code",
   "execution_count": 2,
   "id": "8ab69e6a-ec0a-4499-9121-0c00c5524071",
   "metadata": {},
   "outputs": [
    {
     "data": {
      "text/plain": [
       "'C:\\\\spark\\\\spark-3.5.5-bin-hadoop3'"
      ]
     },
     "execution_count": 2,
     "metadata": {},
     "output_type": "execute_result"
    }
   ],
   "source": [
    "import findspark\n",
    "\n",
    "findspark.init()\n",
    "findspark.find()"
   ]
  },
  {
   "cell_type": "code",
   "execution_count": 2,
   "id": "a50ade00-8d33-46fe-aca2-a17b3ac5053f",
   "metadata": {},
   "outputs": [],
   "source": [
    "from pyspark.sql import SparkSession"
   ]
  },
  {
   "cell_type": "code",
   "execution_count": 3,
   "id": "2300429f-6ac1-4790-a143-a6cd01ccc498",
   "metadata": {},
   "outputs": [],
   "source": [
    "spark = SparkSession.builder.appName(\"CreateDataFrame\").getOrCreate()"
   ]
  },
  {
   "cell_type": "code",
   "execution_count": 4,
   "id": "a3b33724-42d2-4d65-8893-e553383e9325",
   "metadata": {},
   "outputs": [
    {
     "data": {
      "text/html": [
       "\n",
       "            <div>\n",
       "                <p><b>SparkSession - in-memory</b></p>\n",
       "                \n",
       "        <div>\n",
       "            <p><b>SparkContext</b></p>\n",
       "\n",
       "            <p><a href=\"http://dragon-p.3mqladuifuie5l3zmewkkfp2vg.fx.internal.cloudapp.net:4040\">Spark UI</a></p>\n",
       "\n",
       "            <dl>\n",
       "              <dt>Version</dt>\n",
       "                <dd><code>v3.5.5</code></dd>\n",
       "              <dt>Master</dt>\n",
       "                <dd><code>local[*]</code></dd>\n",
       "              <dt>AppName</dt>\n",
       "                <dd><code>CreateDataFrame</code></dd>\n",
       "            </dl>\n",
       "        </div>\n",
       "        \n",
       "            </div>\n",
       "        "
      ],
      "text/plain": [
       "<pyspark.sql.session.SparkSession at 0x249e549da10>"
      ]
     },
     "execution_count": 4,
     "metadata": {},
     "output_type": "execute_result"
    }
   ],
   "source": [
    "spark"
   ]
  },
  {
   "cell_type": "code",
   "execution_count": 1,
   "id": "0a13cb97-3bff-492e-8490-f3a1661e23b0",
   "metadata": {},
   "outputs": [
    {
     "ename": "NameError",
     "evalue": "name 'spark' is not defined",
     "output_type": "error",
     "traceback": [
      "\u001b[31m---------------------------------------------------------------------------\u001b[39m",
      "\u001b[31mNameError\u001b[39m                                 Traceback (most recent call last)",
      "\u001b[36mCell\u001b[39m\u001b[36m \u001b[39m\u001b[32mIn[1]\u001b[39m\u001b[32m, line 1\u001b[39m\n\u001b[32m----> \u001b[39m\u001b[32m1\u001b[39m df = \u001b[43mspark\u001b[49m.createDataFrame([(\u001b[32m0\u001b[39m, \u001b[33m'\u001b[39m\u001b[33mSunday\u001b[39m\u001b[33m'\u001b[39m), (\u001b[32m1\u001b[39m, \u001b[33m'\u001b[39m\u001b[33mMonday\u001b[39m\u001b[33m'\u001b[39m),\n\u001b[32m      2\u001b[39m                             (\u001b[32m3\u001b[39m, \u001b[33m'\u001b[39m\u001b[33mTuesday\u001b[39m\u001b[33m'\u001b[39m), (\u001b[32m4\u001b[39m, \u001b[33m'\u001b[39m\u001b[33mWednesday\u001b[39m\u001b[33m'\u001b[39m),\n\u001b[32m      3\u001b[39m                             (\u001b[32m5\u001b[39m, \u001b[33m'\u001b[39m\u001b[33mThursday\u001b[39m\u001b[33m'\u001b[39m), (\u001b[32m5\u001b[39m, \u001b[33m'\u001b[39m\u001b[33mFriday\u001b[39m\u001b[33m'\u001b[39m),\n\u001b[32m      4\u001b[39m                             (\u001b[32m6\u001b[39m, \u001b[33m'\u001b[39m\u001b[33mSaturday\u001b[39m\u001b[33m'\u001b[39m),\n\u001b[32m      5\u001b[39m                            (\u001b[33m'\u001b[39m\u001b[33mday_of_week_num\u001b[39m\u001b[33m'\u001b[39m, \u001b[33m'\u001b[39m\u001b[33mday_of_week\u001b[39m\u001b[33m'\u001b[39m)])\n",
      "\u001b[31mNameError\u001b[39m: name 'spark' is not defined"
     ]
    }
   ],
   "source": [
    "df = spark.createDataFrame([(0, 'Sunday'), (1, 'Monday'),\n",
    "                            (3, 'Tuesday'), (4, 'Wednesday'),\n",
    "                            (5, 'Thursday'), (5, 'Friday'),\n",
    "                            (6, 'Saturday'),\n",
    "                           ('day_of_week_num', 'day_of_week')])"
   ]
  },
  {
   "cell_type": "code",
   "execution_count": 7,
   "id": "7870a1af-eabc-4a39-844b-932de455be20",
   "metadata": {},
   "outputs": [
    {
     "name": "stdout",
     "output_type": "stream",
     "text": [
      "+--------+--------------------+\n",
      "|      _1|                  _2|\n",
      "+--------+--------------------+\n",
      "|  Gryzia|          Matematyka|\n",
      "|Plesniak|Wychowanie Techni...|\n",
      "|  Church|         Informatyka|\n",
      "|  ksywka|           przedmiot|\n",
      "+--------+--------------------+\n",
      "\n"
     ]
    }
   ],
   "source": [
    "df.show()"
   ]
  },
  {
   "cell_type": "code",
   "execution_count": null,
   "id": "b7c64cd8-deef-4e4c-9d09-949910170098",
   "metadata": {},
   "outputs": [],
   "source": []
  }
 ],
 "metadata": {
  "kernelspec": {
   "display_name": "Python 3 (ipykernel)",
   "language": "python",
   "name": "python3"
  },
  "language_info": {
   "codemirror_mode": {
    "name": "ipython",
    "version": 3
   },
   "file_extension": ".py",
   "mimetype": "text/x-python",
   "name": "python",
   "nbconvert_exporter": "python",
   "pygments_lexer": "ipython3",
   "version": "3.11.9"
  }
 },
 "nbformat": 4,
 "nbformat_minor": 5
}
